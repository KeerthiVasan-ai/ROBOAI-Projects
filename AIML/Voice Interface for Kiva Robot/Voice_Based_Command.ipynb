{
  "nbformat": 4,
  "nbformat_minor": 0,
  "metadata": {
    "colab": {
      "provenance": [],
      "gpuType": "T4"
    },
    "kernelspec": {
      "name": "python3",
      "display_name": "Python 3"
    },
    "language_info": {
      "name": "python"
    },
    "accelerator": "GPU"
  },
  "cells": [
    {
      "cell_type": "markdown",
      "source": [
        "### Voice Command Based Kiva Controller"
      ],
      "metadata": {
        "id": "v-JGHtvUwS-F"
      }
    },
    {
      "cell_type": "markdown",
      "source": [
        "#### Install Dependencies"
      ],
      "metadata": {
        "id": "eImzdhTzuYBm"
      }
    },
    {
      "cell_type": "code",
      "execution_count": null,
      "metadata": {
        "id": "dwmTJ1FIur1k"
      },
      "outputs": [],
      "source": [
        "pip install speechrecognition transformers"
      ]
    },
    {
      "cell_type": "markdown",
      "source": [
        "#### Developing NLP Model"
      ],
      "metadata": {
        "id": "cWQRcFBHudSH"
      }
    },
    {
      "cell_type": "code",
      "source": [
        "!pip install accelerate -U --no-cache-dir\n",
        "!pip install transformers[torch]\n",
        "from transformers import Trainer, TrainingArguments, DistilBertForSequenceClassification, DistilBertTokenizerFast\n",
        "import torch\n",
        "from torch.utils.data import Dataset\n",
        "\n",
        "# Example dataset\n",
        "class CommandDataset(Dataset):\n",
        "    def __init__(self, texts, labels, tokenizer):\n",
        "        self.encodings = tokenizer(texts, truncation=True, padding=True)\n",
        "        self.labels = labels\n",
        "\n",
        "    def __getitem__(self, idx):\n",
        "        item = {key: torch.tensor(val[idx]) for key, val in self.encodings.items()}\n",
        "        item['labels'] = torch.tensor(self.labels[idx])\n",
        "        return item\n",
        "\n",
        "    def __len__(self):\n",
        "        return len(self.labels)\n",
        "\n",
        "# Example training data\n",
        "texts = [\"move forward\", \"turn left\", \"pick item\", \"check inventory\", \"start task\"]\n",
        "labels = [0, 0, 1, 1, 2]  # 0: navigation, 1: inventory_management, 2: task_delegation\n",
        "\n",
        "tokenizer = DistilBertTokenizerFast.from_pretrained('distilbert-base-uncased')\n",
        "train_dataset = CommandDataset(texts, labels, tokenizer)\n",
        "\n",
        "model = DistilBertForSequenceClassification.from_pretrained('distilbert-base-uncased', num_labels=3)\n",
        "\n",
        "training_args = TrainingArguments(\n",
        "    output_dir='./results',\n",
        "    num_train_epochs=3,\n",
        "    per_device_train_batch_size=4,\n",
        "    logging_dir='./logs',\n",
        ")\n",
        "\n",
        "trainer = Trainer(\n",
        "    model=model,\n",
        "    args=training_args,\n",
        "    train_dataset=train_dataset,\n",
        ")\n",
        "\n",
        "trainer.train()\n",
        "\n",
        "# Save the model\n",
        "model.save_pretrained(\"command_model\")\n",
        "tokenizer.save_pretrained(\"command_model\")"
      ],
      "metadata": {
        "id": "SD-0pUPsvaqE"
      },
      "execution_count": null,
      "outputs": []
    },
    {
      "cell_type": "markdown",
      "source": [
        "#### Loading the Model and Defining Utility Function"
      ],
      "metadata": {
        "id": "y1VWn_gUuimI"
      }
    },
    {
      "cell_type": "code",
      "source": [
        "import speech_recognition as sr\n",
        "\n",
        "model = DistilBertForSequenceClassification.from_pretrained(\"command_model\")\n",
        "tokenizer = DistilBertTokenizerFast.from_pretrained(\"command_model\")\n",
        "\n",
        "device = torch.device(\"cuda\" if torch.cuda.is_available() else \"cpu\")\n",
        "model.to(device)\n",
        "model.eval()\n",
        "\n",
        "# Define command categories\n",
        "commands = {\n",
        "    \"navigation\": [\"move forward\", \"turn left\", \"turn right\", \"stop\"],\n",
        "    \"inventory_management\": [\"pick item\", \"drop item\", \"check inventory\"],\n",
        "    \"task_delegation\": [\"start task\", \"complete task\", \"status report\"]\n",
        "}\n",
        "\n",
        "# Function to recognize speech and convert to text\n",
        "def recognize_speech():\n",
        "    with sr.Microphone() as source:\n",
        "        print(\"Listening...\")\n",
        "        audio = recognizer.listen(source)\n",
        "        try:\n",
        "            text = recognizer.recognize_google(audio)\n",
        "            print(f\"Recognized: {text}\")\n",
        "            return text\n",
        "        except sr.UnknownValueError:\n",
        "            print(\"Sorry, I did not understand that.\")\n",
        "            return None\n",
        "        except sr.RequestError:\n",
        "            print(\"Request Error.\")\n",
        "            return None\n",
        "\n",
        "def classify_command(text):\n",
        "    inputs = tokenizer(text, return_tensors=\"pt\", truncation=True, padding=True)\n",
        "    inputs = {key: val.to(device) for key, val in inputs.items()}\n",
        "\n",
        "    with torch.no_grad():\n",
        "        outputs = model(**inputs)\n",
        "\n",
        "    logits = outputs.logits\n",
        "    predicted_class_id = torch.argmax(logits, dim=1).item()\n",
        "\n",
        "    # Map predicted class ID to command category\n",
        "    command_categories = {0: \"navigation\", 1: \"inventory_management\", 2: \"task_delegation\"}\n",
        "    label = command_categories.get(predicted_class_id, \"unknown\")\n",
        "    print(f\"Command Classification: {label}\")\n",
        "    return label\n"
      ],
      "metadata": {
        "id": "1TnpOgmEvVAI"
      },
      "execution_count": 5,
      "outputs": []
    },
    {
      "cell_type": "markdown",
      "source": [
        "### Main Loop and Robot API"
      ],
      "metadata": {
        "id": "FKqF6GTAuoxp"
      }
    },
    {
      "cell_type": "code",
      "source": [
        "import requests\n",
        "\n",
        "API_ENDPOINT = \"http://127.0.0.1/robot-api\"\n",
        "\n",
        "def send_command_to_robot(command):\n",
        "    response = requests.post(API_ENDPOINT, json={\"command\": command})\n",
        "    if response.status_code == 200:\n",
        "        print(\"Command executed successfully.\")\n",
        "    else:\n",
        "        print(\"Failed to execute command.\")\n",
        "\n",
        "while True:\n",
        "    text = recognize_speech()\n",
        "    if text!=\"exit\":\n",
        "        label = classify_command(text)\n",
        "        if label == \"navigation\":\n",
        "            print(\"Processing navigation command...\")\n",
        "            send_command_to_robot(text)\n",
        "        elif label == \"inventory_management\":\n",
        "            print(\"Processing inventory management command...\")\n",
        "            send_command_to_robot(text)\n",
        "        elif label == \"task_delegation\":\n",
        "            print(\"Processing task delegation command...\")\n",
        "            send_command_to_robot(text)\n",
        "        else:\n",
        "            print(\"Unknown command. Please try again.\")\n",
        "    else:\n",
        "      print(\"Exiting...\")\n",
        "      break"
      ],
      "metadata": {
        "id": "svXGk7DJSkI6",
        "colab": {
          "base_uri": "https://localhost:8080/"
        },
        "outputId": "b0922175-423b-4c4b-9c8d-3e4442168b67"
      },
      "execution_count": 12,
      "outputs": [
        {
          "output_type": "stream",
          "name": "stdout",
          "text": [
            "move left\n",
            "Command Classification: navigation\n",
            "Processing navigation command...\n",
            "Command executed successfully.\n",
            "pick bottle\n",
            "Command Classification: inventory_management\n",
            "Processing inventory management command...\n",
            "Command executed successfully.\n",
            "exit\n",
            "Exiting...\n"
          ]
        }
      ]
    },
    {
      "cell_type": "code",
      "source": [],
      "metadata": {
        "id": "6ky387qxcKqh"
      },
      "execution_count": null,
      "outputs": []
    }
  ]
}